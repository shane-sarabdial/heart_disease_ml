{
 "cells": [
  {
   "cell_type": "code",
   "execution_count": 203,
   "metadata": {
    "collapsed": true
   },
   "outputs": [],
   "source": [
    "import pandas as pd\n",
    "import numpy as np\n",
    "from matplotlib import pyplot as plt\n",
    "%matplotlib inline\n",
    "import matplotlib"
   ]
  },
  {
   "cell_type": "code",
   "execution_count": 204,
   "outputs": [],
   "source": [
    "df1 = pd.read_csv('heart_2020_cleaned.csv')"
   ],
   "metadata": {
    "collapsed": false,
    "pycharm": {
     "name": "#%%\n"
    }
   }
  },
  {
   "cell_type": "code",
   "execution_count": 205,
   "outputs": [
    {
     "data": {
      "text/plain": "(319795, 18)"
     },
     "execution_count": 205,
     "metadata": {},
     "output_type": "execute_result"
    }
   ],
   "source": [
    "df1.shape"
   ],
   "metadata": {
    "collapsed": false,
    "pycharm": {
     "name": "#%%\n"
    }
   }
  },
  {
   "cell_type": "code",
   "execution_count": 206,
   "outputs": [
    {
     "data": {
      "text/plain": "  HeartDisease    BMI Smoking AlcoholDrinking Stroke  PhysicalHealth  \\\n0           No  16.60     Yes              No     No             3.0   \n1           No  20.34      No              No    Yes             0.0   \n2           No  26.58     Yes              No     No            20.0   \n3           No  24.21      No              No     No             0.0   \n4           No  23.71      No              No     No            28.0   \n\n   MentalHealth DiffWalking     Sex  AgeCategory   Race Diabetic  \\\n0          30.0          No  Female        55-59  White      Yes   \n1           0.0          No  Female  80 or older  White       No   \n2          30.0          No    Male        65-69  White      Yes   \n3           0.0          No  Female        75-79  White       No   \n4           0.0         Yes  Female        40-44  White       No   \n\n  PhysicalActivity  GenHealth  SleepTime Asthma KidneyDisease SkinCancer  \n0              Yes  Very good        5.0    Yes            No        Yes  \n1              Yes  Very good        7.0     No            No         No  \n2              Yes       Fair        8.0    Yes            No         No  \n3               No       Good        6.0     No            No        Yes  \n4              Yes  Very good        8.0     No            No         No  ",
      "text/html": "<div>\n<style scoped>\n    .dataframe tbody tr th:only-of-type {\n        vertical-align: middle;\n    }\n\n    .dataframe tbody tr th {\n        vertical-align: top;\n    }\n\n    .dataframe thead th {\n        text-align: right;\n    }\n</style>\n<table border=\"1\" class=\"dataframe\">\n  <thead>\n    <tr style=\"text-align: right;\">\n      <th></th>\n      <th>HeartDisease</th>\n      <th>BMI</th>\n      <th>Smoking</th>\n      <th>AlcoholDrinking</th>\n      <th>Stroke</th>\n      <th>PhysicalHealth</th>\n      <th>MentalHealth</th>\n      <th>DiffWalking</th>\n      <th>Sex</th>\n      <th>AgeCategory</th>\n      <th>Race</th>\n      <th>Diabetic</th>\n      <th>PhysicalActivity</th>\n      <th>GenHealth</th>\n      <th>SleepTime</th>\n      <th>Asthma</th>\n      <th>KidneyDisease</th>\n      <th>SkinCancer</th>\n    </tr>\n  </thead>\n  <tbody>\n    <tr>\n      <th>0</th>\n      <td>No</td>\n      <td>16.60</td>\n      <td>Yes</td>\n      <td>No</td>\n      <td>No</td>\n      <td>3.0</td>\n      <td>30.0</td>\n      <td>No</td>\n      <td>Female</td>\n      <td>55-59</td>\n      <td>White</td>\n      <td>Yes</td>\n      <td>Yes</td>\n      <td>Very good</td>\n      <td>5.0</td>\n      <td>Yes</td>\n      <td>No</td>\n      <td>Yes</td>\n    </tr>\n    <tr>\n      <th>1</th>\n      <td>No</td>\n      <td>20.34</td>\n      <td>No</td>\n      <td>No</td>\n      <td>Yes</td>\n      <td>0.0</td>\n      <td>0.0</td>\n      <td>No</td>\n      <td>Female</td>\n      <td>80 or older</td>\n      <td>White</td>\n      <td>No</td>\n      <td>Yes</td>\n      <td>Very good</td>\n      <td>7.0</td>\n      <td>No</td>\n      <td>No</td>\n      <td>No</td>\n    </tr>\n    <tr>\n      <th>2</th>\n      <td>No</td>\n      <td>26.58</td>\n      <td>Yes</td>\n      <td>No</td>\n      <td>No</td>\n      <td>20.0</td>\n      <td>30.0</td>\n      <td>No</td>\n      <td>Male</td>\n      <td>65-69</td>\n      <td>White</td>\n      <td>Yes</td>\n      <td>Yes</td>\n      <td>Fair</td>\n      <td>8.0</td>\n      <td>Yes</td>\n      <td>No</td>\n      <td>No</td>\n    </tr>\n    <tr>\n      <th>3</th>\n      <td>No</td>\n      <td>24.21</td>\n      <td>No</td>\n      <td>No</td>\n      <td>No</td>\n      <td>0.0</td>\n      <td>0.0</td>\n      <td>No</td>\n      <td>Female</td>\n      <td>75-79</td>\n      <td>White</td>\n      <td>No</td>\n      <td>No</td>\n      <td>Good</td>\n      <td>6.0</td>\n      <td>No</td>\n      <td>No</td>\n      <td>Yes</td>\n    </tr>\n    <tr>\n      <th>4</th>\n      <td>No</td>\n      <td>23.71</td>\n      <td>No</td>\n      <td>No</td>\n      <td>No</td>\n      <td>28.0</td>\n      <td>0.0</td>\n      <td>Yes</td>\n      <td>Female</td>\n      <td>40-44</td>\n      <td>White</td>\n      <td>No</td>\n      <td>Yes</td>\n      <td>Very good</td>\n      <td>8.0</td>\n      <td>No</td>\n      <td>No</td>\n      <td>No</td>\n    </tr>\n  </tbody>\n</table>\n</div>"
     },
     "execution_count": 206,
     "metadata": {},
     "output_type": "execute_result"
    }
   ],
   "source": [
    "df1.head()"
   ],
   "metadata": {
    "collapsed": false,
    "pycharm": {
     "name": "#%%\n"
    }
   }
  },
  {
   "cell_type": "code",
   "execution_count": 207,
   "outputs": [
    {
     "data": {
      "text/plain": "HeartDisease        0\nBMI                 0\nSmoking             0\nAlcoholDrinking     0\nStroke              0\nPhysicalHealth      0\nMentalHealth        0\nDiffWalking         0\nSex                 0\nAgeCategory         0\nRace                0\nDiabetic            0\nPhysicalActivity    0\nGenHealth           0\nSleepTime           0\nAsthma              0\nKidneyDisease       0\nSkinCancer          0\ndtype: int64"
     },
     "execution_count": 207,
     "metadata": {},
     "output_type": "execute_result"
    }
   ],
   "source": [
    "df1.isna().sum()"
   ],
   "metadata": {
    "collapsed": false,
    "pycharm": {
     "name": "#%%\n"
    }
   }
  },
  {
   "cell_type": "code",
   "execution_count": 208,
   "outputs": [
    {
     "data": {
      "text/plain": "HeartDisease           2\nBMI                 3604\nSmoking                2\nAlcoholDrinking        2\nStroke                 2\nPhysicalHealth        31\nSex                    2\nAgeCategory           13\nRace                   6\nDiabetic               4\nPhysicalActivity       2\nAsthma                 2\nKidneyDisease          2\nSkinCancer             2\ndtype: int64"
     },
     "execution_count": 208,
     "metadata": {},
     "output_type": "execute_result"
    }
   ],
   "source": [
    "df2 = df1.drop(['DiffWalking','SleepTime','MentalHealth','GenHealth'],axis=1)\n",
    "df2.nunique()"
   ],
   "metadata": {
    "collapsed": false,
    "pycharm": {
     "name": "#%%\n"
    }
   }
  },
  {
   "cell_type": "code",
   "execution_count": 209,
   "outputs": [
    {
     "data": {
      "text/plain": "array(['White', 'Black', 'Asian', 'American Indian/Alaskan Native',\n       'Other', 'Hispanic'], dtype=object)"
     },
     "execution_count": 209,
     "metadata": {},
     "output_type": "execute_result"
    }
   ],
   "source": [
    "df2[\"Race\"].unique()"
   ],
   "metadata": {
    "collapsed": false,
    "pycharm": {
     "name": "#%%\n"
    }
   }
  },
  {
   "cell_type": "code",
   "execution_count": 210,
   "outputs": [
    {
     "data": {
      "text/plain": "array(['Yes', 'No', 'No, borderline diabetes', 'Yes (during pregnancy)'],\n      dtype=object)"
     },
     "execution_count": 210,
     "metadata": {},
     "output_type": "execute_result"
    }
   ],
   "source": [
    "df2['Diabetic'].unique()"
   ],
   "metadata": {
    "collapsed": false,
    "pycharm": {
     "name": "#%%\n"
    }
   }
  },
  {
   "cell_type": "code",
   "execution_count": 210,
   "outputs": [],
   "source": [],
   "metadata": {
    "collapsed": false,
    "pycharm": {
     "name": "#%%\n"
    }
   }
  },
  {
   "cell_type": "code",
   "execution_count": 210,
   "outputs": [],
   "source": [],
   "metadata": {
    "collapsed": false,
    "pycharm": {
     "name": "#%%\n"
    }
   }
  },
  {
   "cell_type": "code",
   "execution_count": 211,
   "outputs": [
    {
     "data": {
      "text/plain": "   American Indian/Alaskan Native  Asian  Black  Hispanic  Other  White\n0                               0      0      0         0      0      1\n1                               0      0      0         0      0      1\n2                               0      0      0         0      0      1\n3                               0      0      0         0      0      1\n4                               0      0      0         0      0      1",
      "text/html": "<div>\n<style scoped>\n    .dataframe tbody tr th:only-of-type {\n        vertical-align: middle;\n    }\n\n    .dataframe tbody tr th {\n        vertical-align: top;\n    }\n\n    .dataframe thead th {\n        text-align: right;\n    }\n</style>\n<table border=\"1\" class=\"dataframe\">\n  <thead>\n    <tr style=\"text-align: right;\">\n      <th></th>\n      <th>American Indian/Alaskan Native</th>\n      <th>Asian</th>\n      <th>Black</th>\n      <th>Hispanic</th>\n      <th>Other</th>\n      <th>White</th>\n    </tr>\n  </thead>\n  <tbody>\n    <tr>\n      <th>0</th>\n      <td>0</td>\n      <td>0</td>\n      <td>0</td>\n      <td>0</td>\n      <td>0</td>\n      <td>1</td>\n    </tr>\n    <tr>\n      <th>1</th>\n      <td>0</td>\n      <td>0</td>\n      <td>0</td>\n      <td>0</td>\n      <td>0</td>\n      <td>1</td>\n    </tr>\n    <tr>\n      <th>2</th>\n      <td>0</td>\n      <td>0</td>\n      <td>0</td>\n      <td>0</td>\n      <td>0</td>\n      <td>1</td>\n    </tr>\n    <tr>\n      <th>3</th>\n      <td>0</td>\n      <td>0</td>\n      <td>0</td>\n      <td>0</td>\n      <td>0</td>\n      <td>1</td>\n    </tr>\n    <tr>\n      <th>4</th>\n      <td>0</td>\n      <td>0</td>\n      <td>0</td>\n      <td>0</td>\n      <td>0</td>\n      <td>1</td>\n    </tr>\n  </tbody>\n</table>\n</div>"
     },
     "execution_count": 211,
     "metadata": {},
     "output_type": "execute_result"
    }
   ],
   "source": [
    "dummies= pd.get_dummies(df2.Race)\n",
    "dummies.head()"
   ],
   "metadata": {
    "collapsed": false,
    "pycharm": {
     "name": "#%%\n"
    }
   }
  },
  {
   "cell_type": "code",
   "execution_count": 212,
   "outputs": [
    {
     "data": {
      "text/plain": "   18-24  25-29  30-34  35-39  40-44  45-49  50-54  55-59  60-64  65-69  \\\n0      0      0      0      0      0      0      0      1      0      0   \n1      0      0      0      0      0      0      0      0      0      0   \n2      0      0      0      0      0      0      0      0      0      1   \n3      0      0      0      0      0      0      0      0      0      0   \n4      0      0      0      0      1      0      0      0      0      0   \n\n   70-74  75-79  80 or older  \n0      0      0            0  \n1      0      0            1  \n2      0      0            0  \n3      0      1            0  \n4      0      0            0  ",
      "text/html": "<div>\n<style scoped>\n    .dataframe tbody tr th:only-of-type {\n        vertical-align: middle;\n    }\n\n    .dataframe tbody tr th {\n        vertical-align: top;\n    }\n\n    .dataframe thead th {\n        text-align: right;\n    }\n</style>\n<table border=\"1\" class=\"dataframe\">\n  <thead>\n    <tr style=\"text-align: right;\">\n      <th></th>\n      <th>18-24</th>\n      <th>25-29</th>\n      <th>30-34</th>\n      <th>35-39</th>\n      <th>40-44</th>\n      <th>45-49</th>\n      <th>50-54</th>\n      <th>55-59</th>\n      <th>60-64</th>\n      <th>65-69</th>\n      <th>70-74</th>\n      <th>75-79</th>\n      <th>80 or older</th>\n    </tr>\n  </thead>\n  <tbody>\n    <tr>\n      <th>0</th>\n      <td>0</td>\n      <td>0</td>\n      <td>0</td>\n      <td>0</td>\n      <td>0</td>\n      <td>0</td>\n      <td>0</td>\n      <td>1</td>\n      <td>0</td>\n      <td>0</td>\n      <td>0</td>\n      <td>0</td>\n      <td>0</td>\n    </tr>\n    <tr>\n      <th>1</th>\n      <td>0</td>\n      <td>0</td>\n      <td>0</td>\n      <td>0</td>\n      <td>0</td>\n      <td>0</td>\n      <td>0</td>\n      <td>0</td>\n      <td>0</td>\n      <td>0</td>\n      <td>0</td>\n      <td>0</td>\n      <td>1</td>\n    </tr>\n    <tr>\n      <th>2</th>\n      <td>0</td>\n      <td>0</td>\n      <td>0</td>\n      <td>0</td>\n      <td>0</td>\n      <td>0</td>\n      <td>0</td>\n      <td>0</td>\n      <td>0</td>\n      <td>1</td>\n      <td>0</td>\n      <td>0</td>\n      <td>0</td>\n    </tr>\n    <tr>\n      <th>3</th>\n      <td>0</td>\n      <td>0</td>\n      <td>0</td>\n      <td>0</td>\n      <td>0</td>\n      <td>0</td>\n      <td>0</td>\n      <td>0</td>\n      <td>0</td>\n      <td>0</td>\n      <td>0</td>\n      <td>1</td>\n      <td>0</td>\n    </tr>\n    <tr>\n      <th>4</th>\n      <td>0</td>\n      <td>0</td>\n      <td>0</td>\n      <td>0</td>\n      <td>1</td>\n      <td>0</td>\n      <td>0</td>\n      <td>0</td>\n      <td>0</td>\n      <td>0</td>\n      <td>0</td>\n      <td>0</td>\n      <td>0</td>\n    </tr>\n  </tbody>\n</table>\n</div>"
     },
     "execution_count": 212,
     "metadata": {},
     "output_type": "execute_result"
    }
   ],
   "source": [
    "dummies2= pd.get_dummies(df2.AgeCategory)\n",
    "dummies2.head()"
   ],
   "metadata": {
    "collapsed": false,
    "pycharm": {
     "name": "#%%\n"
    }
   }
  },
  {
   "cell_type": "code",
   "execution_count": 212,
   "outputs": [],
   "source": [],
   "metadata": {
    "collapsed": false,
    "pycharm": {
     "name": "#%%\n"
    }
   }
  },
  {
   "cell_type": "code",
   "execution_count": 212,
   "outputs": [],
   "source": [],
   "metadata": {
    "collapsed": false,
    "pycharm": {
     "name": "#%%\n"
    }
   }
  },
  {
   "cell_type": "code",
   "execution_count": 213,
   "outputs": [],
   "source": [
    "df3 = pd.DataFrame()"
   ],
   "metadata": {
    "collapsed": false,
    "pycharm": {
     "name": "#%%\n"
    }
   }
  },
  {
   "cell_type": "code",
   "execution_count": 214,
   "outputs": [
    {
     "data": {
      "text/plain": "array(['Yes', 'No'], dtype=object)"
     },
     "execution_count": 214,
     "metadata": {},
     "output_type": "execute_result"
    }
   ],
   "source": [
    "df2 =df2.mask(df2['Diabetic'] == 'No, borderline diabetes')\n",
    "df2 =df2.mask(df2['Diabetic'] == 'Yes (during pregnancy)')\n",
    "df2.dropna(inplace=True)\n",
    "df2['Diabetic'].unique()"
   ],
   "metadata": {
    "collapsed": false,
    "pycharm": {
     "name": "#%%\n"
    }
   }
  },
  {
   "cell_type": "code",
   "execution_count": 214,
   "outputs": [],
   "source": [],
   "metadata": {
    "collapsed": false,
    "pycharm": {
     "name": "#%%\n"
    }
   }
  },
  {
   "cell_type": "code",
   "execution_count": 215,
   "outputs": [],
   "source": [
    "df3[['HD']] = np.where(df2[['HeartDisease']]=='Yes',1,0)\n",
    "df3[['physical_health']] = df2[['PhysicalHealth']]\n",
    "df3[['BMI']] =df2[['BMI']]\n",
    "df3[['is_smoker']] = np.where(df2[['Smoking']]=='Yes',1,0)\n",
    "df3[['is_drinker']] = np.where(df2[['AlcoholDrinking']]=='Yes',1,0)\n",
    "df3[['had_stroke']] = np.where(df2[['Stroke']]=='Yes',1,0)\n",
    "df3[['is_male']] = np.where(df2[['Sex']]=='Male',1,0)\n",
    "df3[['is_exercising']] = np.where(df2[['PhysicalActivity']]=='Yes',1,0)\n",
    "df3[['has_asthma']] = np.where(df2[['Asthma']]=='Yes',1,0)\n",
    "df3[['has_DB']] = np.where(df2[['Diabetic']]=='Yes',1,0)\n",
    "df3[['has_KD']] = np.where(df2[['KidneyDisease']]=='Yes',1,0)\n",
    "df3[['has_SC']] = np.where(df2[['SkinCancer']]=='Yes',1,0)"
   ],
   "metadata": {
    "collapsed": false,
    "pycharm": {
     "name": "#%%\n"
    }
   }
  },
  {
   "cell_type": "code",
   "execution_count": 216,
   "outputs": [
    {
     "data": {
      "text/plain": "   HD  physical_health    BMI  is_smoker  is_drinker  had_stroke  is_male  \\\n0   0              3.0  16.60          1           0           0        0   \n1   0              0.0  20.34          0           0           1        0   \n2   0             20.0  26.58          1           0           0        1   \n3   0              0.0  24.21          0           0           0        0   \n4   0             28.0  23.71          0           0           0        0   \n5   1              6.0  28.87          1           0           0        0   \n6   0             15.0  21.63          0           0           0        0   \n7   0              5.0  31.64          1           0           0        0   \n8   0              NaN    NaN          0           0           0        1   \n9   1              0.0  40.69          1           0           0        1   \n\n   is_exercising  has_asthma  has_DB  has_KD  has_SC  \n0              1           1       1       0       1  \n1              1           0       0       0       0  \n2              1           1       1       0       0  \n3              0           0       0       0       1  \n4              1           0       0       0       0  \n5              0           0       0       0       0  \n6              1           1       0       0       1  \n7              0           1       1       0       0  \n8              1           0       0       0       0  \n9              0           1       1       0       0  ",
      "text/html": "<div>\n<style scoped>\n    .dataframe tbody tr th:only-of-type {\n        vertical-align: middle;\n    }\n\n    .dataframe tbody tr th {\n        vertical-align: top;\n    }\n\n    .dataframe thead th {\n        text-align: right;\n    }\n</style>\n<table border=\"1\" class=\"dataframe\">\n  <thead>\n    <tr style=\"text-align: right;\">\n      <th></th>\n      <th>HD</th>\n      <th>physical_health</th>\n      <th>BMI</th>\n      <th>is_smoker</th>\n      <th>is_drinker</th>\n      <th>had_stroke</th>\n      <th>is_male</th>\n      <th>is_exercising</th>\n      <th>has_asthma</th>\n      <th>has_DB</th>\n      <th>has_KD</th>\n      <th>has_SC</th>\n    </tr>\n  </thead>\n  <tbody>\n    <tr>\n      <th>0</th>\n      <td>0</td>\n      <td>3.0</td>\n      <td>16.60</td>\n      <td>1</td>\n      <td>0</td>\n      <td>0</td>\n      <td>0</td>\n      <td>1</td>\n      <td>1</td>\n      <td>1</td>\n      <td>0</td>\n      <td>1</td>\n    </tr>\n    <tr>\n      <th>1</th>\n      <td>0</td>\n      <td>0.0</td>\n      <td>20.34</td>\n      <td>0</td>\n      <td>0</td>\n      <td>1</td>\n      <td>0</td>\n      <td>1</td>\n      <td>0</td>\n      <td>0</td>\n      <td>0</td>\n      <td>0</td>\n    </tr>\n    <tr>\n      <th>2</th>\n      <td>0</td>\n      <td>20.0</td>\n      <td>26.58</td>\n      <td>1</td>\n      <td>0</td>\n      <td>0</td>\n      <td>1</td>\n      <td>1</td>\n      <td>1</td>\n      <td>1</td>\n      <td>0</td>\n      <td>0</td>\n    </tr>\n    <tr>\n      <th>3</th>\n      <td>0</td>\n      <td>0.0</td>\n      <td>24.21</td>\n      <td>0</td>\n      <td>0</td>\n      <td>0</td>\n      <td>0</td>\n      <td>0</td>\n      <td>0</td>\n      <td>0</td>\n      <td>0</td>\n      <td>1</td>\n    </tr>\n    <tr>\n      <th>4</th>\n      <td>0</td>\n      <td>28.0</td>\n      <td>23.71</td>\n      <td>0</td>\n      <td>0</td>\n      <td>0</td>\n      <td>0</td>\n      <td>1</td>\n      <td>0</td>\n      <td>0</td>\n      <td>0</td>\n      <td>0</td>\n    </tr>\n    <tr>\n      <th>5</th>\n      <td>1</td>\n      <td>6.0</td>\n      <td>28.87</td>\n      <td>1</td>\n      <td>0</td>\n      <td>0</td>\n      <td>0</td>\n      <td>0</td>\n      <td>0</td>\n      <td>0</td>\n      <td>0</td>\n      <td>0</td>\n    </tr>\n    <tr>\n      <th>6</th>\n      <td>0</td>\n      <td>15.0</td>\n      <td>21.63</td>\n      <td>0</td>\n      <td>0</td>\n      <td>0</td>\n      <td>0</td>\n      <td>1</td>\n      <td>1</td>\n      <td>0</td>\n      <td>0</td>\n      <td>1</td>\n    </tr>\n    <tr>\n      <th>7</th>\n      <td>0</td>\n      <td>5.0</td>\n      <td>31.64</td>\n      <td>1</td>\n      <td>0</td>\n      <td>0</td>\n      <td>0</td>\n      <td>0</td>\n      <td>1</td>\n      <td>1</td>\n      <td>0</td>\n      <td>0</td>\n    </tr>\n    <tr>\n      <th>8</th>\n      <td>0</td>\n      <td>NaN</td>\n      <td>NaN</td>\n      <td>0</td>\n      <td>0</td>\n      <td>0</td>\n      <td>1</td>\n      <td>1</td>\n      <td>0</td>\n      <td>0</td>\n      <td>0</td>\n      <td>0</td>\n    </tr>\n    <tr>\n      <th>9</th>\n      <td>1</td>\n      <td>0.0</td>\n      <td>40.69</td>\n      <td>1</td>\n      <td>0</td>\n      <td>0</td>\n      <td>1</td>\n      <td>0</td>\n      <td>1</td>\n      <td>1</td>\n      <td>0</td>\n      <td>0</td>\n    </tr>\n  </tbody>\n</table>\n</div>"
     },
     "execution_count": 216,
     "metadata": {},
     "output_type": "execute_result"
    }
   ],
   "source": [
    "df3.head(10)"
   ],
   "metadata": {
    "collapsed": false,
    "pycharm": {
     "name": "#%%\n"
    }
   }
  },
  {
   "cell_type": "code",
   "execution_count": 217,
   "outputs": [],
   "source": [
    "df3 = pd.concat([df3,dummies], axis=1)\n",
    "df3 = pd.concat([df3,dummies2], axis = 1)"
   ],
   "metadata": {
    "collapsed": false,
    "pycharm": {
     "name": "#%%\n"
    }
   }
  },
  {
   "cell_type": "code",
   "execution_count": 221,
   "outputs": [],
   "source": [
    "df3.dropna(inplace=True)"
   ],
   "metadata": {
    "collapsed": false,
    "pycharm": {
     "name": "#%%\n"
    }
   }
  },
  {
   "cell_type": "code",
   "execution_count": 226,
   "outputs": [
    {
     "data": {
      "text/plain": "count    301524.000000\nmean         28.277012\nstd           6.339625\nmin          12.020000\n25%          23.960000\n50%          27.270000\n75%          31.320000\nmax          94.850000\nName: BMI, dtype: float64"
     },
     "execution_count": 226,
     "metadata": {},
     "output_type": "execute_result"
    }
   ],
   "source": [
    "df3.BMI.describe()"
   ],
   "metadata": {
    "collapsed": false,
    "pycharm": {
     "name": "#%%\n"
    }
   }
  },
  {
   "cell_type": "code",
   "execution_count": null,
   "outputs": [],
   "source": [],
   "metadata": {
    "collapsed": false,
    "pycharm": {
     "name": "#%%\n"
    }
   }
  }
 ],
 "metadata": {
  "kernelspec": {
   "display_name": "Python 3",
   "language": "python",
   "name": "python3"
  },
  "language_info": {
   "codemirror_mode": {
    "name": "ipython",
    "version": 2
   },
   "file_extension": ".py",
   "mimetype": "text/x-python",
   "name": "python",
   "nbconvert_exporter": "python",
   "pygments_lexer": "ipython2",
   "version": "2.7.6"
  }
 },
 "nbformat": 4,
 "nbformat_minor": 0
}